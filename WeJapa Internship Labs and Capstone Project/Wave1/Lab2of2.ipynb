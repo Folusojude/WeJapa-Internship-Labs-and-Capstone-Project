{
 "cells": [
  {
   "cell_type": "code",
   "execution_count": 1,
   "metadata": {},
   "outputs": [],
   "source": [
    "verse=\"If you can keep your head when all about you\\n Are losing theirs and blaming it on you,\\nIf you can trust yourself when all men about you,\\n But make allowance for their doubting too;\\nIf you can wait and not be tired by waiting,\\n Or being lied about, don't deal in lies,\\nOr being hated, don't give way to hating,\\n And yet don't look too good, nor talk too wise:\""
   ]
  },
  {
   "cell_type": "code",
   "execution_count": 2,
   "metadata": {},
   "outputs": [
    {
     "name": "stdout",
     "output_type": "stream",
     "text": [
      "If you can keep your head when all about you\n",
      " Are losing theirs and blaming it on you,\n",
      "If you can trust yourself when all men about you,\n",
      " But make allowance for their doubting too;\n",
      "If you can wait and not be tired by waiting,\n",
      " Or being lied about, don't deal in lies,\n",
      "Or being hated, don't give way to hating,\n",
      " And yet don't look too good, nor talk too wise:\n"
     ]
    }
   ],
   "source": [
    "print(verse)"
   ]
  },
  {
   "cell_type": "code",
   "execution_count": 3,
   "metadata": {},
   "outputs": [],
   "source": [
    "verse=verse.split()"
   ]
  },
  {
   "cell_type": "markdown",
   "metadata": {},
   "source": [
    "##### Number 1"
   ]
  },
  {
   "cell_type": "code",
   "execution_count": 4,
   "metadata": {},
   "outputs": [
    {
     "name": "stdout",
     "output_type": "stream",
     "text": [
      "The length of the string variable is 71.\n"
     ]
    }
   ],
   "source": [
    "print('The length of the string variable is {}.'.format(len(verse)))"
   ]
  },
  {
   "cell_type": "markdown",
   "metadata": {},
   "source": [
    "##### Number 2"
   ]
  },
  {
   "cell_type": "code",
   "execution_count": 5,
   "metadata": {},
   "outputs": [
    {
     "name": "stdout",
     "output_type": "stream",
     "text": [
      "The index of the first occurence of the word 'and' in verse is 13.\n"
     ]
    }
   ],
   "source": [
    "print(\"The index of the first occurence of the word 'and' in verse is {}.\".format([i for i, e in enumerate(verse) if e=='and'][0]))"
   ]
  },
  {
   "cell_type": "markdown",
   "metadata": {},
   "source": [
    "##### Number 3"
   ]
  },
  {
   "cell_type": "code",
   "execution_count": 6,
   "metadata": {},
   "outputs": [
    {
     "name": "stdout",
     "output_type": "stream",
     "text": [
      "The index of the last occurence of the word 'you' in verse is 36.\n"
     ]
    }
   ],
   "source": [
    "print(\"The index of the last occurence of the word 'you' in verse is {}.\".format([i for i, e in enumerate(verse) if e=='you'][-1]))"
   ]
  },
  {
   "cell_type": "markdown",
   "metadata": {},
   "source": [
    "##### Number 4"
   ]
  },
  {
   "cell_type": "code",
   "execution_count": 7,
   "metadata": {},
   "outputs": [
    {
     "name": "stdout",
     "output_type": "stream",
     "text": [
      "The count of the occurences of the word 'you' is 4.\n"
     ]
    }
   ],
   "source": [
    "print(\"The count of the occurences of the word 'you' is {}.\".format(len([i for i, e in enumerate(verse) if e=='you'])))"
   ]
  }
 ],
 "metadata": {
  "kernelspec": {
   "display_name": "Python 3",
   "language": "python",
   "name": "python3"
  },
  "language_info": {
   "codemirror_mode": {
    "name": "ipython",
    "version": 3
   },
   "file_extension": ".py",
   "mimetype": "text/x-python",
   "name": "python",
   "nbconvert_exporter": "python",
   "pygments_lexer": "ipython3",
   "version": "3.7.6"
  }
 },
 "nbformat": 4,
 "nbformat_minor": 4
}
