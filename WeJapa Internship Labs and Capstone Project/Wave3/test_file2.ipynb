{
 "cells": [
  {
   "cell_type": "markdown",
   "metadata": {},
   "source": [
    "##### playing a game of hiding a number from someone"
   ]
  },
  {
   "cell_type": "code",
   "execution_count": 1,
   "metadata": {},
   "outputs": [
    {
     "name": "stdout",
     "output_type": "stream",
     "text": [
      "Enter answer: 5\n",
      "Enter guess: 5\n",
      "Nice!  Your guess matched the answer!\n"
     ]
    }
   ],
   "source": [
    "answer = float(input('Enter answer: '))#provide answer\n",
    "guess = float(input('Enter guess: '))#provide guess\n",
    "\n",
    "if guess<answer:#provide conditional\n",
    "    result = \"Oops!  Your guess was too low.\"\n",
    "elif guess>answer:#provide conditional\n",
    "    result = \"Oops!  Your guess was too high.\"\n",
    "elif guess==answer:#provide conditional\n",
    "    result = \"Nice!  Your guess matched the answer!\"\n",
    "\n",
    "print(result)"
   ]
  }
 ],
 "metadata": {
  "kernelspec": {
   "display_name": "Python 3",
   "language": "python",
   "name": "python3"
  },
  "language_info": {
   "codemirror_mode": {
    "name": "ipython",
    "version": 3
   },
   "file_extension": ".py",
   "mimetype": "text/x-python",
   "name": "python",
   "nbconvert_exporter": "python",
   "pygments_lexer": "ipython3",
   "version": "3.7.6"
  }
 },
 "nbformat": 4,
 "nbformat_minor": 4
}
