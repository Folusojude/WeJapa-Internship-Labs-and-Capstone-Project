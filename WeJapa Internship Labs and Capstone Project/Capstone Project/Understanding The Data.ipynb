{
 "cells": [
  {
   "cell_type": "markdown",
   "metadata": {},
   "source": [
    "# UNDERSTANDING THE DATA FOR THE BIKESHARE PROJECT"
   ]
  },
  {
   "cell_type": "markdown",
   "metadata": {},
   "source": [
    "##### Importing the required library"
   ]
  },
  {
   "cell_type": "code",
   "execution_count": 1,
   "metadata": {},
   "outputs": [],
   "source": [
    "import pandas as pd"
   ]
  },
  {
   "cell_type": "markdown",
   "metadata": {},
   "source": [
    "### explore_chicago"
   ]
  },
  {
   "cell_type": "code",
   "execution_count": 2,
   "metadata": {},
   "outputs": [],
   "source": [
    "df=pd.read_csv('chicago.csv')"
   ]
  },
  {
   "cell_type": "markdown",
   "metadata": {},
   "source": [
    "##### #1. What columns are in this dataset?"
   ]
  },
  {
   "cell_type": "code",
   "execution_count": 3,
   "metadata": {},
   "outputs": [
    {
     "name": "stdout",
     "output_type": "stream",
     "text": [
      "Index(['Unnamed: 0', 'Start Time', 'End Time', 'Trip Duration',\n",
      "       'Start Station', 'End Station', 'User Type', 'Gender', 'Birth Year'],\n",
      "      dtype='object')\n"
     ]
    }
   ],
   "source": [
    "print(df.columns)"
   ]
  },
  {
   "cell_type": "markdown",
   "metadata": {},
   "source": [
    "##### #2. Are there any missing values?"
   ]
  },
  {
   "cell_type": "code",
   "execution_count": 4,
   "metadata": {},
   "outputs": [
    {
     "name": "stdout",
     "output_type": "stream",
     "text": [
      "Unnamed: 0       False\n",
      "Start Time       False\n",
      "End Time         False\n",
      "Trip Duration    False\n",
      "Start Station    False\n",
      "End Station      False\n",
      "User Type        False\n",
      "Gender            True\n",
      "Birth Year        True\n",
      "dtype: bool\n"
     ]
    }
   ],
   "source": [
    "print(df.isnull().any())"
   ]
  },
  {
   "cell_type": "markdown",
   "metadata": {},
   "source": [
    "##### #3. What are the different types of values in each column?"
   ]
  },
  {
   "cell_type": "code",
   "execution_count": 5,
   "metadata": {},
   "outputs": [
    {
     "name": "stdout",
     "output_type": "stream",
     "text": [
      "<class 'pandas.core.frame.DataFrame'>\n",
      "RangeIndex: 300000 entries, 0 to 299999\n",
      "Data columns (total 9 columns):\n",
      " #   Column         Non-Null Count   Dtype  \n",
      "---  ------         --------------   -----  \n",
      " 0   Unnamed: 0     300000 non-null  int64  \n",
      " 1   Start Time     300000 non-null  object \n",
      " 2   End Time       300000 non-null  object \n",
      " 3   Trip Duration  300000 non-null  int64  \n",
      " 4   Start Station  300000 non-null  object \n",
      " 5   End Station    300000 non-null  object \n",
      " 6   User Type      300000 non-null  object \n",
      " 7   Gender         238948 non-null  object \n",
      " 8   Birth Year     238981 non-null  float64\n",
      "dtypes: float64(1), int64(2), object(6)\n",
      "memory usage: 20.6+ MB\n",
      "None\n"
     ]
    }
   ],
   "source": [
    "print(df.info())"
   ]
  },
  {
   "cell_type": "markdown",
   "metadata": {},
   "source": [
    "### filter_data"
   ]
  },
  {
   "cell_type": "code",
   "execution_count": 6,
   "metadata": {},
   "outputs": [],
   "source": [
    "CITY_DATA =  {'chicago': 'chicago.csv',\n",
    "          'new york city': 'new_york_city.csv',\n",
    "          'washington': 'washington.csv'}"
   ]
  },
  {
   "cell_type": "code",
   "execution_count": 7,
   "metadata": {},
   "outputs": [],
   "source": [
    "def load_data(city, month, day):\n",
    "    day = day[0].upper()+day[1:]\n",
    "    \"\"\"\n",
    "    Loads data for the specified city and filters by month and day if applicable.\n",
    "\n",
    "    Args:\n",
    "        (str) city - name of the city to analyze\n",
    "        (str) month - name of the month to filter by, or \"all\" to apply no month filter\n",
    "        (str) day - name of the day of week to filter by, or \"all\" to apply no day filter\n",
    "    Returns:\n",
    "        df - pandas DataFrame containing city data filtered by month and day\n",
    "    \"\"\"\n",
    "    \n",
    "    # load data file into a dataframe\n",
    "    \n",
    "    for key,value in CITY_DATA.items():\n",
    "        if key==city:\n",
    "            df=pd.read_csv(value)\n",
    "    \n",
    "\n",
    "    # convert the Start Time column to datetime\n",
    "    df['Start Time'] = pd.to_datetime(df['Start Time'])\n",
    "\n",
    "    # extract month and day of week from Start Time to create new columns\n",
    "    df['month'] = pd.DatetimeIndex(df['Start Time']).month\n",
    "    df['day_of_week'] = pd.DatetimeIndex(df['Start Time']).day\n",
    "\n",
    "\n",
    "    # filter by month if applicable\n",
    "    if month != 'all':\n",
    "        # use the index of the months list to get the corresponding int\n",
    "        months = ['january', 'february', 'march', 'april', 'may', 'june']\n",
    "        month = months.index(month)+1\n",
    "    \n",
    "        # filter by month to create the new dataframe\n",
    "        df = df[df['Start Time'].map(lambda x: x.month)==month]\n",
    "\n",
    "    # filter by day of week if applicable\n",
    "    if day != 'all':\n",
    "        # filter by day of week to create the new dataframe\n",
    "        df = df[df['Start Time'].dt.day_name()==day]\n",
    "    \n",
    "    return df\n",
    "    "
   ]
  },
  {
   "cell_type": "code",
   "execution_count": 8,
   "metadata": {},
   "outputs": [
    {
     "data": {
      "text/html": [
       "<div>\n",
       "<style scoped>\n",
       "    .dataframe tbody tr th:only-of-type {\n",
       "        vertical-align: middle;\n",
       "    }\n",
       "\n",
       "    .dataframe tbody tr th {\n",
       "        vertical-align: top;\n",
       "    }\n",
       "\n",
       "    .dataframe thead th {\n",
       "        text-align: right;\n",
       "    }\n",
       "</style>\n",
       "<table border=\"1\" class=\"dataframe\">\n",
       "  <thead>\n",
       "    <tr style=\"text-align: right;\">\n",
       "      <th></th>\n",
       "      <th>Unnamed: 0</th>\n",
       "      <th>Start Time</th>\n",
       "      <th>End Time</th>\n",
       "      <th>Trip Duration</th>\n",
       "      <th>Start Station</th>\n",
       "      <th>End Station</th>\n",
       "      <th>User Type</th>\n",
       "      <th>Gender</th>\n",
       "      <th>Birth Year</th>\n",
       "      <th>month</th>\n",
       "      <th>day_of_week</th>\n",
       "    </tr>\n",
       "  </thead>\n",
       "  <tbody>\n",
       "    <tr>\n",
       "      <th>37</th>\n",
       "      <td>395803</td>\n",
       "      <td>2017-03-24 15:35:55</td>\n",
       "      <td>2017-03-24 15:46:10</td>\n",
       "      <td>615</td>\n",
       "      <td>Dearborn St &amp; Erie St</td>\n",
       "      <td>State St &amp; Van Buren St</td>\n",
       "      <td>Subscriber</td>\n",
       "      <td>Male</td>\n",
       "      <td>1989.0</td>\n",
       "      <td>3</td>\n",
       "      <td>24</td>\n",
       "    </tr>\n",
       "    <tr>\n",
       "      <th>93</th>\n",
       "      <td>395735</td>\n",
       "      <td>2017-03-24 15:32:04</td>\n",
       "      <td>2017-03-24 15:52:53</td>\n",
       "      <td>1249</td>\n",
       "      <td>Sedgwick St &amp; Webster Ave</td>\n",
       "      <td>Western Ave &amp; Winnebago Ave</td>\n",
       "      <td>Subscriber</td>\n",
       "      <td>Female</td>\n",
       "      <td>1964.0</td>\n",
       "      <td>3</td>\n",
       "      <td>24</td>\n",
       "    </tr>\n",
       "    <tr>\n",
       "      <th>175</th>\n",
       "      <td>395402</td>\n",
       "      <td>2017-03-24 15:10:29</td>\n",
       "      <td>2017-03-24 15:19:44</td>\n",
       "      <td>555</td>\n",
       "      <td>Franklin St &amp; Monroe St</td>\n",
       "      <td>Aberdeen St &amp; Monroe St</td>\n",
       "      <td>Subscriber</td>\n",
       "      <td>Male</td>\n",
       "      <td>1987.0</td>\n",
       "      <td>3</td>\n",
       "      <td>24</td>\n",
       "    </tr>\n",
       "    <tr>\n",
       "      <th>190</th>\n",
       "      <td>393400</td>\n",
       "      <td>2017-03-24 12:29:30</td>\n",
       "      <td>2017-03-24 12:48:56</td>\n",
       "      <td>1166</td>\n",
       "      <td>Southport Ave &amp; Wellington Ave</td>\n",
       "      <td>Lake Shore Dr &amp; North Blvd</td>\n",
       "      <td>Subscriber</td>\n",
       "      <td>Female</td>\n",
       "      <td>1984.0</td>\n",
       "      <td>3</td>\n",
       "      <td>24</td>\n",
       "    </tr>\n",
       "    <tr>\n",
       "      <th>198</th>\n",
       "      <td>427496</td>\n",
       "      <td>2017-03-31 08:25:53</td>\n",
       "      <td>2017-03-31 08:39:09</td>\n",
       "      <td>796</td>\n",
       "      <td>Clinton St &amp; Jackson Blvd</td>\n",
       "      <td>Racine Ave (May St) &amp; Fulton St</td>\n",
       "      <td>Subscriber</td>\n",
       "      <td>Male</td>\n",
       "      <td>1983.0</td>\n",
       "      <td>3</td>\n",
       "      <td>31</td>\n",
       "    </tr>\n",
       "    <tr>\n",
       "      <th>...</th>\n",
       "      <td>...</td>\n",
       "      <td>...</td>\n",
       "      <td>...</td>\n",
       "      <td>...</td>\n",
       "      <td>...</td>\n",
       "      <td>...</td>\n",
       "      <td>...</td>\n",
       "      <td>...</td>\n",
       "      <td>...</td>\n",
       "      <td>...</td>\n",
       "      <td>...</td>\n",
       "    </tr>\n",
       "    <tr>\n",
       "      <th>299816</th>\n",
       "      <td>333246</td>\n",
       "      <td>2017-03-10 17:40:53</td>\n",
       "      <td>2017-03-10 17:44:59</td>\n",
       "      <td>246</td>\n",
       "      <td>Wells St &amp; Walton St</td>\n",
       "      <td>Rush St &amp; Cedar St</td>\n",
       "      <td>Subscriber</td>\n",
       "      <td>Female</td>\n",
       "      <td>1992.0</td>\n",
       "      <td>3</td>\n",
       "      <td>10</td>\n",
       "    </tr>\n",
       "    <tr>\n",
       "      <th>299839</th>\n",
       "      <td>392682</td>\n",
       "      <td>2017-03-24 11:17:50</td>\n",
       "      <td>2017-03-24 11:51:44</td>\n",
       "      <td>2034</td>\n",
       "      <td>Lake Shore Dr &amp; Monroe St</td>\n",
       "      <td>Streeter Dr &amp; Grand Ave</td>\n",
       "      <td>Customer</td>\n",
       "      <td>NaN</td>\n",
       "      <td>NaN</td>\n",
       "      <td>3</td>\n",
       "      <td>24</td>\n",
       "    </tr>\n",
       "    <tr>\n",
       "      <th>299860</th>\n",
       "      <td>290125</td>\n",
       "      <td>2017-03-03 12:19:29</td>\n",
       "      <td>2017-03-03 12:32:58</td>\n",
       "      <td>809</td>\n",
       "      <td>Aberdeen St &amp; Monroe St</td>\n",
       "      <td>Clark St &amp; 9th St (AMLI)</td>\n",
       "      <td>Subscriber</td>\n",
       "      <td>Male</td>\n",
       "      <td>1975.0</td>\n",
       "      <td>3</td>\n",
       "      <td>3</td>\n",
       "    </tr>\n",
       "    <tr>\n",
       "      <th>299865</th>\n",
       "      <td>288513</td>\n",
       "      <td>2017-03-03 07:26:48</td>\n",
       "      <td>2017-03-03 07:31:22</td>\n",
       "      <td>274</td>\n",
       "      <td>Damen Ave &amp; Melrose Ave</td>\n",
       "      <td>Lincoln Ave &amp; Roscoe St</td>\n",
       "      <td>Subscriber</td>\n",
       "      <td>Female</td>\n",
       "      <td>1981.0</td>\n",
       "      <td>3</td>\n",
       "      <td>3</td>\n",
       "    </tr>\n",
       "    <tr>\n",
       "      <th>299898</th>\n",
       "      <td>292757</td>\n",
       "      <td>2017-03-03 19:30:48</td>\n",
       "      <td>2017-03-03 19:34:52</td>\n",
       "      <td>244</td>\n",
       "      <td>Clark St &amp; Berwyn Ave</td>\n",
       "      <td>Broadway &amp; Berwyn Ave</td>\n",
       "      <td>Subscriber</td>\n",
       "      <td>Male</td>\n",
       "      <td>1980.0</td>\n",
       "      <td>3</td>\n",
       "      <td>3</td>\n",
       "    </tr>\n",
       "  </tbody>\n",
       "</table>\n",
       "<p>5813 rows × 11 columns</p>\n",
       "</div>"
      ],
      "text/plain": [
       "        Unnamed: 0          Start Time             End Time  Trip Duration  \\\n",
       "37          395803 2017-03-24 15:35:55  2017-03-24 15:46:10            615   \n",
       "93          395735 2017-03-24 15:32:04  2017-03-24 15:52:53           1249   \n",
       "175         395402 2017-03-24 15:10:29  2017-03-24 15:19:44            555   \n",
       "190         393400 2017-03-24 12:29:30  2017-03-24 12:48:56           1166   \n",
       "198         427496 2017-03-31 08:25:53  2017-03-31 08:39:09            796   \n",
       "...            ...                 ...                  ...            ...   \n",
       "299816      333246 2017-03-10 17:40:53  2017-03-10 17:44:59            246   \n",
       "299839      392682 2017-03-24 11:17:50  2017-03-24 11:51:44           2034   \n",
       "299860      290125 2017-03-03 12:19:29  2017-03-03 12:32:58            809   \n",
       "299865      288513 2017-03-03 07:26:48  2017-03-03 07:31:22            274   \n",
       "299898      292757 2017-03-03 19:30:48  2017-03-03 19:34:52            244   \n",
       "\n",
       "                         Start Station                      End Station  \\\n",
       "37               Dearborn St & Erie St          State St & Van Buren St   \n",
       "93           Sedgwick St & Webster Ave      Western Ave & Winnebago Ave   \n",
       "175            Franklin St & Monroe St          Aberdeen St & Monroe St   \n",
       "190     Southport Ave & Wellington Ave       Lake Shore Dr & North Blvd   \n",
       "198          Clinton St & Jackson Blvd  Racine Ave (May St) & Fulton St   \n",
       "...                                ...                              ...   \n",
       "299816            Wells St & Walton St               Rush St & Cedar St   \n",
       "299839       Lake Shore Dr & Monroe St          Streeter Dr & Grand Ave   \n",
       "299860         Aberdeen St & Monroe St         Clark St & 9th St (AMLI)   \n",
       "299865         Damen Ave & Melrose Ave          Lincoln Ave & Roscoe St   \n",
       "299898           Clark St & Berwyn Ave            Broadway & Berwyn Ave   \n",
       "\n",
       "         User Type  Gender  Birth Year  month  day_of_week  \n",
       "37      Subscriber    Male      1989.0      3           24  \n",
       "93      Subscriber  Female      1964.0      3           24  \n",
       "175     Subscriber    Male      1987.0      3           24  \n",
       "190     Subscriber  Female      1984.0      3           24  \n",
       "198     Subscriber    Male      1983.0      3           31  \n",
       "...            ...     ...         ...    ...          ...  \n",
       "299816  Subscriber  Female      1992.0      3           10  \n",
       "299839    Customer     NaN         NaN      3           24  \n",
       "299860  Subscriber    Male      1975.0      3            3  \n",
       "299865  Subscriber  Female      1981.0      3            3  \n",
       "299898  Subscriber    Male      1980.0      3            3  \n",
       "\n",
       "[5813 rows x 11 columns]"
      ]
     },
     "execution_count": 8,
     "metadata": {},
     "output_type": "execute_result"
    }
   ],
   "source": [
    "load_data('chicago','march','friday')"
   ]
  },
  {
   "cell_type": "markdown",
   "metadata": {},
   "source": [
    "### popular_times"
   ]
  },
  {
   "cell_type": "code",
   "execution_count": 9,
   "metadata": {},
   "outputs": [
    {
     "name": "stdout",
     "output_type": "stream",
     "text": [
      "Most Frequent Start Hour: 0    17\n",
      "dtype: int64\n"
     ]
    }
   ],
   "source": [
    "filename = 'chicago.csv'\n",
    "\n",
    "# load data file into a dataframe\n",
    "df = pd.read_csv(filename)\n",
    "\n",
    "# convert the Start Time column to datetime\n",
    "df['Start Time'] = pd.to_datetime(df['Start Time'])\n",
    "\n",
    "# extract hour from the Start Time column to create an hour column\n",
    "df['hour'] = pd.DatetimeIndex(df['Start Time']).hour\n",
    "\n",
    "# find the most common hour (from 0 to 23)\n",
    "popular_hour = df['hour'].mode()\n",
    "    \n",
    "print('Most Frequent Start Hour:', popular_hour)"
   ]
  },
  {
   "cell_type": "markdown",
   "metadata": {},
   "source": [
    "### user_types"
   ]
  },
  {
   "cell_type": "code",
   "execution_count": 10,
   "metadata": {},
   "outputs": [
    {
     "name": "stdout",
     "output_type": "stream",
     "text": [
      "Subscriber    238889\n",
      "Customer       61110\n",
      "Dependent          1\n",
      "Name: User Type, dtype: int64\n"
     ]
    }
   ],
   "source": [
    "filename = 'chicago.csv'\n",
    "\n",
    "# load data file into a dataframe\n",
    "df = pd.read_csv(filename)\n",
    "\n",
    "# print value counts for each user type\n",
    "user_types = df['User Type'].value_counts()\n",
    "\n",
    "print(user_types)"
   ]
  }
 ],
 "metadata": {
  "kernelspec": {
   "display_name": "Python 3",
   "language": "python",
   "name": "python3"
  },
  "language_info": {
   "codemirror_mode": {
    "name": "ipython",
    "version": 3
   },
   "file_extension": ".py",
   "mimetype": "text/x-python",
   "name": "python",
   "nbconvert_exporter": "python",
   "pygments_lexer": "ipython3",
   "version": "3.7.6"
  }
 },
 "nbformat": 4,
 "nbformat_minor": 4
}
