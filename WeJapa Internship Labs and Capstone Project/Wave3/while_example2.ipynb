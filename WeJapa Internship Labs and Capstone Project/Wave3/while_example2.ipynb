{
 "cells": [
  {
   "cell_type": "markdown",
   "metadata": {},
   "source": [
    "##### Count By Check"
   ]
  },
  {
   "cell_type": "code",
   "execution_count": 1,
   "metadata": {},
   "outputs": [
    {
     "name": "stdout",
     "output_type": "stream",
     "text": [
      "provide start number: 7\n",
      "provide some number that you stop when ypu hit: 2\n",
      "provide some number to count by: 6\n"
     ]
    }
   ],
   "source": [
    "start_num=int(input('provide start number: '))\n",
    "end_num=int(input('provide some number that you stop when ypu hit: '))\n",
    "count_by=int(input('provide some number to count by: '))"
   ]
  },
  {
   "cell_type": "code",
   "execution_count": 2,
   "metadata": {},
   "outputs": [],
   "source": [
    "\n",
    "i=start_num\n",
    "if start_num>end_num:\n",
    "    result=\"Oops! Looks like your start value is greater than the end value. Please try again.\"\n",
    "elif start_num<end_num:\n",
    "    while i<=end_num:\n",
    "        if i<end_num:\n",
    "            break_num=i+count_by\n",
    "        elif i==end_num:\n",
    "            break_num=i\n",
    "        i+=count_by\n",
    "    result=break_num"
   ]
  },
  {
   "cell_type": "code",
   "execution_count": 3,
   "metadata": {},
   "outputs": [
    {
     "name": "stdout",
     "output_type": "stream",
     "text": [
      "Oops! Looks like your start value is greater than the end value. Please try again.\n"
     ]
    }
   ],
   "source": [
    "print(result)"
   ]
  }
 ],
 "metadata": {
  "kernelspec": {
   "display_name": "Python 3",
   "language": "python",
   "name": "python3"
  },
  "language_info": {
   "codemirror_mode": {
    "name": "ipython",
    "version": 3
   },
   "file_extension": ".py",
   "mimetype": "text/x-python",
   "name": "python",
   "nbconvert_exporter": "python",
   "pygments_lexer": "ipython3",
   "version": "3.7.6"
  }
 },
 "nbformat": 4,
 "nbformat_minor": 4
}
