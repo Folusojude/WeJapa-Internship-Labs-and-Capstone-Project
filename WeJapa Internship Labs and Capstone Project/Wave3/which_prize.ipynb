{
 "cells": [
  {
   "cell_type": "markdown",
   "metadata": {},
   "source": [
    "##### Which prize"
   ]
  },
  {
   "cell_type": "code",
   "execution_count": 1,
   "metadata": {},
   "outputs": [],
   "source": [
    "points=174\n",
    "\n",
    "if points>=1 and points<=50:\n",
    "    result=\"Congratulations! You won a {}!\".format('wooden rabbit')\n",
    "    \n",
    "elif points>=51 and points<=150:\n",
    "    result=\"Oh dear, no prize this time.\"\n",
    "    \n",
    "elif points>=151 and points<=180:\n",
    "    result=\"Congratulations! You won a {}!\".format('wafer-thin mint')\n",
    "    \n",
    "elif points>=181 and points<=200:\n",
    "    result=\"Congratulations! You won a {}!\".format('penguin')"
   ]
  },
  {
   "cell_type": "code",
   "execution_count": 2,
   "metadata": {},
   "outputs": [
    {
     "name": "stdout",
     "output_type": "stream",
     "text": [
      "Congratulations! You won a wafer-thin mint!\n"
     ]
    }
   ],
   "source": [
    "print(result)"
   ]
  }
 ],
 "metadata": {
  "kernelspec": {
   "display_name": "Python 3",
   "language": "python",
   "name": "python3"
  },
  "language_info": {
   "codemirror_mode": {
    "name": "ipython",
    "version": 3
   },
   "file_extension": ".py",
   "mimetype": "text/x-python",
   "name": "python",
   "nbconvert_exporter": "python",
   "pygments_lexer": "ipython3",
   "version": "3.7.6"
  }
 },
 "nbformat": 4,
 "nbformat_minor": 4
}
