{
 "cells": [
  {
   "cell_type": "markdown",
   "metadata": {},
   "source": [
    "##### Checking for prime numbers"
   ]
  },
  {
   "cell_type": "code",
   "execution_count": 1,
   "metadata": {},
   "outputs": [],
   "source": [
    "def check_prime_number(n):\n",
    "    for i in range(2,n):\n",
    "        if n%i==0:\n",
    "            print('{} is not a prime number because {} is a factor of {}'.format(n,i,n))\n",
    "            break\n",
    "    else:\n",
    "        print('{} is a prime number'.format(n))\n",
    "        "
   ]
  },
  {
   "cell_type": "code",
   "execution_count": 2,
   "metadata": {},
   "outputs": [],
   "source": [
    "check_prime = [26, 39, 51, 53, 57, 79, 85]"
   ]
  },
  {
   "cell_type": "code",
   "execution_count": 3,
   "metadata": {},
   "outputs": [
    {
     "name": "stdout",
     "output_type": "stream",
     "text": [
      "26 is not a prime number because 2 is a factor of 26\n",
      "39 is not a prime number because 3 is a factor of 39\n",
      "51 is not a prime number because 3 is a factor of 51\n",
      "53 is a prime number\n",
      "57 is not a prime number because 3 is a factor of 57\n",
      "79 is a prime number\n",
      "85 is not a prime number because 5 is a factor of 85\n"
     ]
    }
   ],
   "source": [
    "for i in check_prime:\n",
    "    check_prime_number(i)"
   ]
  }
 ],
 "metadata": {
  "kernelspec": {
   "display_name": "Python 3",
   "language": "python",
   "name": "python3"
  },
  "language_info": {
   "codemirror_mode": {
    "name": "ipython",
    "version": 3
   },
   "file_extension": ".py",
   "mimetype": "text/x-python",
   "name": "python",
   "nbconvert_exporter": "python",
   "pygments_lexer": "ipython3",
   "version": "3.7.6"
  }
 },
 "nbformat": 4,
 "nbformat_minor": 4
}
